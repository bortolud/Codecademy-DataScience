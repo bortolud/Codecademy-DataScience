{
 "cells": [
  {
   "cell_type": "markdown",
   "metadata": {},
   "source": [
    "# U.S. Medical Insurance Costs\n",
    "\n",
    "In this project, we will use real world data to determine which region pays the most for insurance on average."
   ]
  },
  {
   "cell_type": "code",
   "execution_count": 1,
   "metadata": {},
   "outputs": [],
   "source": [
    "import csv"
   ]
  },
  {
   "cell_type": "code",
   "execution_count": 13,
   "metadata": {},
   "outputs": [],
   "source": [
    "# Read the contents of the file and store the data in list of dictionaries\n",
    "insurance_data = []\n",
    "with open('insurance.csv','r') as insurance_file:\n",
    "    insurance_data_dictionary = csv.DictReader(insurance_file)\n",
    "    for row in insurance_data_dictionary:\n",
    "        insurance_data.append(row)\n",
    "\n",
    "#print(insurance_data)"
   ]
  },
  {
   "cell_type": "code",
   "execution_count": 32,
   "metadata": {},
   "outputs": [],
   "source": [
    "class Insurance:\n",
    "    # region list\n",
    "    regions = []\n",
    "    data_sorted_by_region = {}\n",
    "    cost_per_region = {}\n",
    "    \n",
    "    # initialize itself with insurance data\n",
    "    def __init__(self, data):\n",
    "        self.data = data\n",
    "    \n",
    "    def populate_regions_list(self):\n",
    "        #for each person in the data\n",
    "        for person in self.data:\n",
    "            #check if their region is in the region list\n",
    "            if self.regions.count(person['region']) == 0:\n",
    "                #if it isn't there, add it\n",
    "                self.regions.append(person['region'])\n",
    "                \n",
    "    def sort_by_region(self):\n",
    "        self.populate_regions_list()\n",
    "        \n",
    "        #loop through regions\n",
    "        for region in self.regions:\n",
    "            temp_list = []\n",
    "            #loop through the insurance data, if the person's region is the current region, add them to the temp list\n",
    "            for person in self.data:\n",
    "                if person['region'] == region:\n",
    "                    temp_list.append(person)\n",
    "            #add list to sorted dictionary with region as the key\n",
    "            self.data_sorted_by_region.update({region:temp_list})\n",
    "    \n",
    "    def calculate_average_cost_per_region(self):\n",
    "        self.sort_by_region()\n",
    "        \n",
    "        #loop through each region \n",
    "        for region in self.regions:\n",
    "        #loop through entries and calculate average\n",
    "            total_cost = 0\n",
    "            temp_list = self.data_sorted_by_region[region]\n",
    "            #sum the costs\n",
    "            for entry in temp_list:\n",
    "                total_cost += float(entry['charges'])\n",
    "            #calculate the average\n",
    "            average_cost = total_cost / len(temp_list)\n",
    "            #add average cost to the dictionary\n",
    "            self.cost_per_region.update({region:average_cost})\n",
    "    \n",
    "    def max_cost(self):\n",
    "        self.calculate_average_cost_per_region()\n",
    "        max_cost = 0\n",
    "        max_cost_region = ''\n",
    "        for region in self.cost_per_region:\n",
    "            if self.cost_per_region[region] > max_cost:\n",
    "                max_cost = self.cost_per_region[region]\n",
    "                max_cost_region = region\n",
    "        print(\"The most expensive region is: {}, where the average cost is ${}\".format(max_cost_region, round(max_cost,2)))\n",
    "            "
   ]
  },
  {
   "cell_type": "code",
   "execution_count": 33,
   "metadata": {},
   "outputs": [
    {
     "name": "stdout",
     "output_type": "stream",
     "text": [
      "The most expensive region is: southeast, where the average cost is $14735.41\n"
     ]
    }
   ],
   "source": [
    "medical_insurance = Insurance(insurance_data)\n",
    "medical_insurance.max_cost()\n",
    "#for row in medical_insurance.cost_per_region.values():\n",
    "#    print(row)\n"
   ]
  }
 ],
 "metadata": {
  "kernelspec": {
   "display_name": "Python 3 (ipykernel)",
   "language": "python",
   "name": "python3"
  },
  "language_info": {
   "codemirror_mode": {
    "name": "ipython",
    "version": 3
   },
   "file_extension": ".py",
   "mimetype": "text/x-python",
   "name": "python",
   "nbconvert_exporter": "python",
   "pygments_lexer": "ipython3",
   "version": "3.9.7"
  }
 },
 "nbformat": 4,
 "nbformat_minor": 4
}
